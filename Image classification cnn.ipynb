{
 "cells": [
  {
   "cell_type": "code",
   "execution_count": 22,
   "metadata": {},
   "outputs": [],
   "source": [
    "import os\n",
    "from keras.models import Sequential # Initialise our neural network model as a sequential network\n",
    "from keras.layers import Conv2D # Convolution operation\n",
    "from keras.layers import MaxPooling2D # Maxpooling function\n",
    "from keras.layers import Flatten # Converting 2D arrays into a 1D linear vector.\n",
    "from keras.layers import Dense # Perform the full connection of the neural network\n",
    "from keras.preprocessing.image import ImageDataGenerator\n",
    "from IPython.display import display\n",
    "from PIL import Image\n",
    "import cv2\n",
    "import numpy as np\n",
    "from sklearn.metrics import accuracy_score\n",
    "from skimage import io, transform"
   ]
  },
  {
   "cell_type": "code",
   "execution_count": 23,
   "metadata": {
    "collapsed": true
   },
   "outputs": [],
   "source": [
    "def cnn_classifier():\n",
    "    cnn = Sequential()\n",
    "    cnn.add(Conv2D(32, (3,3), input_shape = (50, 50, 3), padding='same', activation = 'relu'))\n",
    "    cnn.add(MaxPooling2D(pool_size=(2, 2), padding='same'))\n",
    "    cnn.add(Conv2D(64, (3,3), padding='same', activation = 'relu'))\n",
    "    cnn.add(MaxPooling2D(pool_size=(2, 2), padding='same'))\n",
    "    cnn.add(Flatten())\n",
    "    cnn.add(Dense(500, activation = 'relu'))\n",
    "    cnn.add(Dense(2, activation = 'softmax'))\n",
    "    cnn.compile(optimizer = 'adam', loss = 'binary_crossentropy', metrics = ['accuracy'])\n",
    "    print(cnn.summary())\n",
    "    return cnn\n"
   ]
  },
  {
   "cell_type": "code",
   "execution_count": 24,
   "metadata": {
    "collapsed": true
   },
   "outputs": [],
   "source": [
    "def reshaped_image(image):\n",
    "    return transform.resize(image,(50, 50, 3)) "
   ]
  },
  {
   "cell_type": "code",
   "execution_count": 33,
   "metadata": {},
   "outputs": [],
   "source": [
    "def load_images_from_folder():\n",
    "    Images = os.listdir(r\"C:\\Users\\Shalya\\Downloads\\train_images\")\n",
    "    train_images = []\n",
    "    train_labels = []\n",
    "    for image in Images:\n",
    "            l = [0,0] # [cat,dog]\n",
    "            if image.find('cat') != -1:\n",
    "                path = os.path.join(r\"C:\\Users\\Shalya\\Downloads\\train_images\", image)\n",
    "                img = cv2.imread(path)\n",
    "                train_images.append(reshaped_image(img))\n",
    "                l = [1,0] \n",
    "                train_labels.append(l)\n",
    "            if image.find('dog') != -1:\n",
    "                path = os.path.join(r\"C:\\Users\\Shalya\\Downloads\\train_images\", image)\n",
    "                img = cv2.imread(path)\n",
    "                train_images.append(reshaped_image(img))\n",
    "                l = [0,1] \n",
    "                train_labels.append(l)\n",
    "    return np.array(train_images), np.array(train_labels)"
   ]
  },
  {
   "cell_type": "code",
   "execution_count": 34,
   "metadata": {
    "collapsed": true
   },
   "outputs": [],
   "source": [
    "def train_test_split(train_data, train_labels, fraction):\n",
    "    index = int(len(train_data)*fraction)\n",
    "    return train_data[:index], train_labels[:index], train_data[index:], train_labels[index:]"
   ]
  },
  {
   "cell_type": "code",
   "execution_count": 35,
   "metadata": {},
   "outputs": [
    {
     "name": "stderr",
     "output_type": "stream",
     "text": [
      "C:\\Users\\Shalya\\Anaconda3\\lib\\site-packages\\skimage\\transform\\_warps.py:84: UserWarning: The default mode, 'constant', will be changed to 'reflect' in skimage 0.15.\n",
      "  warn(\"The default mode, 'constant', will be changed to 'reflect' in \"\n"
     ]
    },
    {
     "name": "stdout",
     "output_type": "stream",
     "text": [
      "Train data size:  160\n",
      "Test data size:  40\n"
     ]
    }
   ],
   "source": [
    "train_data, train_labels = load_images_from_folder()\n",
    "fraction = 0.8\n",
    "train_data, train_labels, test_data, test_labels = train_test_split(train_data, train_labels, fraction)\n",
    "print (\"Train data size: \", len(train_data))\n",
    "print (\"Test data size: \", len(test_data))"
   ]
  },
  {
   "cell_type": "code",
   "execution_count": 36,
   "metadata": {},
   "outputs": [
    {
     "name": "stdout",
     "output_type": "stream",
     "text": [
      "_________________________________________________________________\n",
      "Layer (type)                 Output Shape              Param #   \n",
      "=================================================================\n",
      "conv2d_3 (Conv2D)            (None, 50, 50, 32)        896       \n",
      "_________________________________________________________________\n",
      "max_pooling2d_3 (MaxPooling2 (None, 25, 25, 32)        0         \n",
      "_________________________________________________________________\n",
      "conv2d_4 (Conv2D)            (None, 25, 25, 64)        18496     \n",
      "_________________________________________________________________\n",
      "max_pooling2d_4 (MaxPooling2 (None, 13, 13, 64)        0         \n",
      "_________________________________________________________________\n",
      "flatten_2 (Flatten)          (None, 10816)             0         \n",
      "_________________________________________________________________\n",
      "dense_3 (Dense)              (None, 500)               5408500   \n",
      "_________________________________________________________________\n",
      "dense_4 (Dense)              (None, 2)                 1002      \n",
      "=================================================================\n",
      "Total params: 5,428,894\n",
      "Trainable params: 5,428,894\n",
      "Non-trainable params: 0\n",
      "_________________________________________________________________\n",
      "None\n",
      "Train data shape:  (160, 50, 50, 3)\n",
      "Test data shape:  (40, 50, 50, 3)\n",
      "Epoch 1/10\n",
      "160/160 [==============================] - 3s 16ms/step - loss: 1.2676 - acc: 0.6250\n",
      "Epoch 2/10\n",
      "160/160 [==============================] - 2s 10ms/step - loss: 0.9465 - acc: 0.4625\n",
      "Epoch 3/10\n",
      "160/160 [==============================] - 2s 10ms/step - loss: 0.6710 - acc: 0.6250\n",
      "Epoch 4/10\n",
      "160/160 [==============================] - 2s 10ms/step - loss: 0.6670 - acc: 0.6250\n",
      "Epoch 5/10\n",
      "160/160 [==============================] - 2s 10ms/step - loss: 0.6411 - acc: 0.6500\n",
      "Epoch 6/10\n",
      "160/160 [==============================] - 2s 10ms/step - loss: 0.6255 - acc: 0.7250\n",
      "Epoch 7/10\n",
      "160/160 [==============================] - 2s 10ms/step - loss: 0.6191 - acc: 0.6437\n",
      "Epoch 8/10\n",
      "160/160 [==============================] - 2s 10ms/step - loss: 0.5731 - acc: 0.7562\n",
      "Epoch 9/10\n",
      "160/160 [==============================] - 2s 10ms/step - loss: 0.5474 - acc: 0.8250\n",
      "Epoch 10/10\n",
      "160/160 [==============================] - 2s 10ms/step - loss: 0.4929 - acc: 0.8187\n",
      "Actual test labels: [1 1 1 1 1 1 1 1 1 1 1 1 1 1 1 1 1 1 1 1 1 1 1 1 1 1 1 1 1 1 1 1 1 1 1 1 1\n",
      " 1 1 1]\n",
      "Predicted test labels: [1 1 1 0 1 0 0 0 1 0 0 1 0 0 1 1 0 1 0 0 0 0 0 0 0 1 0 0 0 1 0 0 1 0 0 1 0\n",
      " 1 0 0]\n",
      "Accuracy score: 0.35\n"
     ]
    }
   ],
   "source": [
    "cnn = cnn_classifier()\n",
    "\n",
    "print (\"Train data shape: \", train_data.shape)\n",
    "print (\"Test data shape: \", test_data.shape)\n",
    "\n",
    "idx = np.random.permutation(train_data.shape[0])\n",
    "cnn.fit(train_data[idx], train_labels[idx], batch_size = 64, epochs = 10)\n",
    "predicted_test_labels = np.argmax(cnn.predict(test_data), axis=1)\n",
    "test_labels = np.argmax(test_labels, axis=1)\n",
    "\n",
    "print (\"Actual test labels:\", test_labels)\n",
    "print (\"Predicted test labels:\", predicted_test_labels)\n",
    "\n",
    "print (\"Accuracy score:\", accuracy_score(test_labels, predicted_test_labels))"
   ]
  },
  {
   "cell_type": "code",
   "execution_count": null,
   "metadata": {
    "collapsed": true
   },
   "outputs": [],
   "source": []
  }
 ],
 "metadata": {
  "kernelspec": {
   "display_name": "Python 3",
   "language": "python",
   "name": "python3"
  },
  "language_info": {
   "codemirror_mode": {
    "name": "ipython",
    "version": 3
   },
   "file_extension": ".py",
   "mimetype": "text/x-python",
   "name": "python",
   "nbconvert_exporter": "python",
   "pygments_lexer": "ipython3",
   "version": "3.6.3"
  }
 },
 "nbformat": 4,
 "nbformat_minor": 2
}
